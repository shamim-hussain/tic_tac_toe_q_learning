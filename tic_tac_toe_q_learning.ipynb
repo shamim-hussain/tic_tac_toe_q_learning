{
  "nbformat": 4,
  "nbformat_minor": 0,
  "metadata": {
    "colab": {
      "name": "tic_tac_toe_q_learning.ipynb",
      "provenance": [],
      "collapsed_sections": [],
      "authorship_tag": "ABX9TyMJaPBleOqqBzhaQVc5MY2g",
      "include_colab_link": true
    },
    "kernelspec": {
      "name": "python3",
      "display_name": "Python 3"
    },
    "language_info": {
      "name": "python"
    }
  },
  "cells": [
    {
      "cell_type": "markdown",
      "metadata": {
        "id": "view-in-github",
        "colab_type": "text"
      },
      "source": [
        "<a href=\"https://colab.research.google.com/github/shamim-hussain/tic_tac_toe_q_learning/blob/master/tic_tac_toe_q_learning.ipynb\" target=\"_parent\"><img src=\"https://colab.research.google.com/assets/colab-badge.svg\" alt=\"Open In Colab\"/></a>"
      ]
    },
    {
      "cell_type": "code",
      "metadata": {
        "id": "1_nFsORWLcFP"
      },
      "source": [
        "import numpy as np\n",
        "import matplotlib.pyplot as plt\n",
        "import cv2\n",
        "\n",
        "\n",
        "class Game:\n",
        "    def __init__(self, player_x, player_o):\n",
        "        self.player_x = player_x\n",
        "        self.player_o = player_o\n",
        "        self.state = (0,)*9\n",
        "        self.available = list(range(9))\n",
        "        self.state_sequence = []\n",
        "        self.init_graphics()\n",
        "    \n",
        "    def init_graphics(self):\n",
        "        m = 10\n",
        "\n",
        "        cross = np.zeros([5*m,5*m],dtype=np.float32)\n",
        "        cross = cv2.line(cross, (1*m,1*m), (4*m,4*m), 1, (4*m)//5, cv2.LINE_AA)\n",
        "        cross = cv2.line(cross, (4*m,1*m), (1*m,4*m), 1, (4*m)//5, cv2.LINE_AA)\n",
        "\n",
        "        circle = np.zeros([5*m,5*m],dtype=np.float32)\n",
        "        circle = cv2.circle(circle, ((5*m)//2,(5*m)//2), (3*m)//2, 1, (4*m)//5)\n",
        "\n",
        "        board = np.zeros([17*m,17*m])\n",
        "        board = cv2.line(board, ((11*m)//2, m//5), ((11*m)//2, 17*m-m//5), \n",
        "                                                      1, (4*m//5), cv2.LINE_AA)\n",
        "        board = cv2.line(board, (m//5, (11*m)//2), (17*m-m//5, (11*m)//2), \n",
        "                                                      1, (4*m//5), cv2.LINE_AA)\n",
        "        board = cv2.line(board, ((23*m)//2, m//5), ((23*m)//2, 17*m-m//5), \n",
        "                                                      1, (4*m//5), cv2.LINE_AA)\n",
        "        board = cv2.line(board, (m//5, (23*m)//2), (17*m-m//5, (23*m)//2), \n",
        "                                                      1, (4*m//5), cv2.LINE_AA)\n",
        "\n",
        "        self.cross = cross\n",
        "        self.circle = circle\n",
        "        self.board = board\n",
        "        self.board_posistions = [[  0,  0], [  0, 60], [  0,120], \n",
        "                                 [ 60,  0], [ 60, 60], [ 60,120], \n",
        "                                 [120,  0], [120, 60], [120,120]]\n",
        "    \n",
        "    def render_state(self, state=None):\n",
        "        if state is None:\n",
        "            state = self.state\n",
        "        \n",
        "        board = self.board.copy()\n",
        "        for k in range(9):\n",
        "            if state[k]==0:\n",
        "                continue\n",
        "            elif state[k]>0:\n",
        "                img = self.cross\n",
        "            elif state[k]<0:\n",
        "                img = self.circle\n",
        "\n",
        "            start_x,start_y = self.board_posistions[k]\n",
        "            end_x,end_y=start_x+img.shape[0], start_y+img.shape[1]\n",
        "            board[start_x:end_x,start_y:end_y]=img\n",
        "        \n",
        "        return board"
      ],
      "execution_count": null,
      "outputs": []
    },
    {
      "cell_type": "code",
      "metadata": {
        "colab": {
          "base_uri": "https://localhost:8080/",
          "height": 265
        },
        "id": "wcZ7pqwCPJOC",
        "outputId": "1764bb38-d6f1-4432-dab1-15b0663bac8a"
      },
      "source": [
        "game = Game(None,None)\n",
        "state = (\n",
        "0,1,-1,\n",
        "0,-1,1,\n",
        "-1,1,1,)\n",
        "board=game.render_state(state)\n",
        "plt.imshow(board,'gray')\n",
        "plt.axis('off')"
      ],
      "execution_count": null,
      "outputs": [
        {
          "output_type": "execute_result",
          "data": {
            "text/plain": [
              "(-0.5, 169.5, 169.5, -0.5)"
            ]
          },
          "metadata": {},
          "execution_count": 58
        },
        {
          "output_type": "display_data",
          "data": {
            "image/png": "[encoded data removed]",
            "text/plain": [
              "<Figure size 432x288 with 1 Axes>"
            ]
          },
          "metadata": {
            "needs_background": "light"
          }
        }
      ]
    },
    {
      "cell_type": "code",
      "metadata": {
        "colab": {
          "base_uri": "https://localhost:8080/"
        },
        "id": "Awn63PV5awEJ",
        "outputId": "584e3801-8e92-49b8-92ad-98e350977c9d"
      },
      "source": [
        "tuple(state)"
      ],
      "execution_count": null,
      "outputs": [
        {
          "output_type": "execute_result",
          "data": {
            "text/plain": [
              "(array([ 0,  1, -1]), array([ 0, -1,  1]), array([-1,  1,  1]))"
            ]
          },
          "metadata": {},
          "execution_count": 56
        }
      ]
    },
    {
      "cell_type": "code",
      "metadata": {
        "id": "4l9LgwirhKPR"
      },
      "source": [
        ""
      ],
      "execution_count": null,
      "outputs": []
    }
  ]
}