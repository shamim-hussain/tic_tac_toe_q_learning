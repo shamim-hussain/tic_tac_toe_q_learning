{
 "cells": [
  {
   "cell_type": "code",
   "execution_count": 1,
   "metadata": {},
   "outputs": [],
   "source": [
    "import numpy as np\n",
    "import matplotlib.pyplot as plt\n",
    "import cv2\n",
    "\n",
    "\n",
    "class Game:\n",
    "    def __init__(self, player_x, player_o):\n",
    "        self.player_x = player_x\n",
    "        self.player_o = player_o\n",
    "        self.state = (0,)*9\n",
    "        self.available = list(range(9))\n",
    "        self.state_sequence = [self.state]\n",
    "        self.move_sequence = []\n",
    "        self.init_graphics()\n",
    "    \n",
    "    def init_graphics(self):\n",
    "        m = 10\n",
    "\n",
    "        cross = np.zeros([5*m,5*m],dtype=np.float32)\n",
    "        cross = cv2.line(cross, (1*m,1*m), (4*m,4*m), 1, (4*m)//5, cv2.LINE_AA)\n",
    "        cross = cv2.line(cross, (4*m,1*m), (1*m,4*m), 1, (4*m)//5, cv2.LINE_AA)\n",
    "\n",
    "        circle = np.zeros([5*m,5*m],dtype=np.float32)\n",
    "        circle = cv2.circle(circle, ((5*m)//2,(5*m)//2), (3*m)//2, 1, (4*m)//5)\n",
    "\n",
    "        board = np.zeros([17*m,17*m])\n",
    "        board = cv2.line(board, ((11*m)//2, m//5), ((11*m)//2, 17*m-m//5), \n",
    "                                                      1, (4*m//5), cv2.LINE_AA)\n",
    "        board = cv2.line(board, (m//5, (11*m)//2), (17*m-m//5, (11*m)//2), \n",
    "                                                      1, (4*m//5), cv2.LINE_AA)\n",
    "        board = cv2.line(board, ((23*m)//2, m//5), ((23*m)//2, 17*m-m//5), \n",
    "                                                      1, (4*m//5), cv2.LINE_AA)\n",
    "        board = cv2.line(board, (m//5, (23*m)//2), (17*m-m//5, (23*m)//2), \n",
    "                                                      1, (4*m//5), cv2.LINE_AA)\n",
    "\n",
    "        self.cross = cross\n",
    "        self.circle = circle\n",
    "        self.board = board\n",
    "        self.board_posistions = [[  0,  0], [  0, 60], [  0,120], \n",
    "                                 [ 60,  0], [ 60, 60], [ 60,120], \n",
    "                                 [120,  0], [120, 60], [120,120]]\n",
    "    \n",
    "    def render_state(self, state=None):\n",
    "        if state is None:\n",
    "            state = self.state\n",
    "        \n",
    "        board = self.board.copy()\n",
    "        for k in range(9):\n",
    "            if state[k]==0:\n",
    "                continue\n",
    "            elif state[k]>0:\n",
    "                img = self.cross\n",
    "            elif state[k]<0:\n",
    "                img = self.circle\n",
    "\n",
    "            start_x,start_y = self.board_posistions[k]\n",
    "            end_x,end_y=start_x+img.shape[0], start_y+img.shape[1]\n",
    "            board[start_x:end_x,start_y:end_y]=img\n",
    "        \n",
    "        return board\n",
    "    \n",
    "    def check_win(self):\n",
    "        for i in range(3):\n",
    "            if self.state[i]==self.state[i+3]==self.state[i+6]:\n",
    "                return self.state[i]\n",
    "            \n",
    "            ss = i*3\n",
    "            if self.state[ss]==self.state[ss+1]==self.state[ss+2]:\n",
    "                return self.state[ss]\n",
    "\n",
    "        if self.state[0]==self.state[4]==self.state[8]:\n",
    "            return self.state[0]\n",
    "        if self.state[2]==self.state[4]==self.state[6]:\n",
    "            return self.state[2]\n",
    "        return 0\n",
    "    \n",
    "    def play(self):\n",
    "        while True:\n",
    "            move = self.player_x(self)\n",
    "            self.move_sequence.append(move)\n",
    "            self.state = tuple((1 if i==move else self.state[i]) for i in range(9))\n",
    "            self.available.remove(move)\n",
    "            self.state_sequence.append(self.state)\n",
    "            win_val = self.check_win()\n",
    "            yield win_val\n",
    "            if win_val:\n",
    "                self.result = win_val\n",
    "                return\n",
    "            \n",
    "            if not len(self.available):\n",
    "                self.result = 0\n",
    "                return\n",
    "            \n",
    "            move = self.player_o(self)\n",
    "            self.move_sequence.append(move)\n",
    "            self.state = tuple((-1 if i==move else self.state[i]) for i in range(9))\n",
    "            self.available.remove(move)\n",
    "            self.state_sequence.append(self.state)\n",
    "            win_val = self.check_win()\n",
    "            yield win_val\n",
    "            if win_val:\n",
    "                self.result = win_val\n",
    "                return"
   ]
  },
  {
   "cell_type": "code",
   "execution_count": 2,
   "metadata": {},
   "outputs": [],
   "source": [
    "import matplotlib.pyplot as plt\n",
    "\n",
    "def human_player(game):\n",
    "    move = int(input(\"Your move: \"))\n",
    "    return move\n",
    "\n",
    "def view_game(game):\n",
    "    plt.imshow(game.render_state(),cmap='gray')\n",
    "    plt.axis('off')\n",
    "    plt.show()\n",
    "    plt.pause(0.1)\n",
    "\n",
    "def player_vs_player(player_x, player_o, view=True):\n",
    "    game = Game(player_x, player_o)\n",
    "    if view: view_game(game)\n",
    "    for win_val in game.play():\n",
    "        if view:\n",
    "            view_game(game)\n",
    "            if win_val > 0:\n",
    "                print(\"Player 1 wins!\")\n",
    "            elif win_val < 0:\n",
    "                print(\"Player 2 wins!\")\n",
    "    return game"
   ]
  },
  {
   "cell_type": "code",
   "execution_count": null,
   "metadata": {},
   "outputs": [],
   "source": [
    "game=player_vs_player(human_player, human_player)"
   ]
  },
  {
   "cell_type": "code",
   "execution_count": 11,
   "metadata": {},
   "outputs": [
    {
     "data": {
      "text/plain": [
       "[(0, 0, 0, 0, 0, 0, 0, 0, 0),\n",
       " (0, 0, 0, 0, 1, 0, 0, 0, 0),\n",
       " (-1, 0, 0, 0, 1, 0, 0, 0, 0),\n",
       " (-1, 0, 0, 1, 1, 0, 0, 0, 0),\n",
       " (-1, -1, 0, 1, 1, 0, 0, 0, 0),\n",
       " (-1, -1, 0, 1, 1, 1, 0, 0, 0)]"
      ]
     },
     "execution_count": 11,
     "metadata": {},
     "output_type": "execute_result"
    }
   ],
   "source": [
    "game.state_sequence"
   ]
  },
  {
   "cell_type": "code",
   "execution_count": 12,
   "metadata": {},
   "outputs": [
    {
     "data": {
      "text/plain": [
       "[4, 0, 3, 1, 5]"
      ]
     },
     "execution_count": 12,
     "metadata": {},
     "output_type": "execute_result"
    }
   ],
   "source": [
    "game.move_sequence"
   ]
  },
  {
   "cell_type": "code",
   "execution_count": 3,
   "metadata": {},
   "outputs": [],
   "source": [
    "from collections import defaultdict\n",
    "import random\n",
    "\n",
    "class Q_Player:\n",
    "    def __init__(self, epsilon=0.1, gamma=0.9, alpha=0.1):\n",
    "        self.epsilon = epsilon\n",
    "        self.gamma = gamma\n",
    "        self.alpha = alpha\n",
    "        \n",
    "        self.Q = defaultdict(lambda: defaultdict(float))\n",
    "    \n",
    "    def __call__(self, game):\n",
    "        if random.uniform(0,1)<self.epsilon:\n",
    "            move = random.choice(game.available)\n",
    "        else:\n",
    "            available = game.available\n",
    "            random.shuffle(available)\n",
    "            move = max(available, key=lambda x: self.Q[game.state][x])\n",
    "        return move\n",
    "    \n",
    "    def backup_update(self, game):\n",
    "        if game.result==0:\n",
    "            return\n",
    "        elif game.result>0:\n",
    "            reward = game.result\n",
    "        else:\n",
    "            reward = -game.result\n",
    "        \n",
    "        state = game.state_sequence[-2]\n",
    "        move = game.move_sequence[-1]\n",
    "        self.Q[state][move] += self.alpha*(reward - self.Q[state][move])\n",
    "        \n",
    "        for t in reversed(range(len(game.move_sequence)-1)):\n",
    "            state = game.state_sequence[t]\n",
    "            move = game.move_sequence[t]\n",
    "            next_state = game.state_sequence[t+1]\n",
    "            \n",
    "            self.Q[state][move] -= self.alpha*(self.gamma*max(self.Q[next_state].values()) + self.Q[state][move])\n",
    "        \n",
    "        "
   ]
  },
  {
   "cell_type": "code",
   "execution_count": 4,
   "metadata": {},
   "outputs": [],
   "source": [
    "q_player = Q_Player(epsilon=0.1, gamma=0.9, alpha=0.1)"
   ]
  },
  {
   "cell_type": "code",
   "execution_count": 20,
   "metadata": {},
   "outputs": [
    {
     "data": {
      "text/plain": [
       "defaultdict(<function __main__.Q_Player.__init__.<locals>.<lambda>()>,\n",
       "            {(-1, -1, 0, 1, 1, 0, 0, 0, 0): defaultdict(float, {5: 0.1}),\n",
       "             (-1, 0, 0, 1, 1, 0, 0, 0, 0): defaultdict(float,\n",
       "                         {1: -0.009000000000000001}),\n",
       "             (-1, 0, 0, 0, 1, 0, 0, 0, 0): defaultdict(float,\n",
       "                         {3: 0.0008100000000000002}),\n",
       "             (0, 0, 0, 0, 1, 0, 0, 0, 0): defaultdict(float,\n",
       "                         {0: -7.290000000000002e-05,\n",
       "                          3: -7.290000000000002e-05}),\n",
       "             (0, 0, 0, 0, 0, 0, 0, 0, 0): defaultdict(float,\n",
       "                         {4: 1.2465900000000004e-05}),\n",
       "             (0, -1, 1, -1, 1, 0, 0, 0, 0): defaultdict(float, {6: 0.1}),\n",
       "             (0, 0, 1, -1, 1, 0, 0, 0, 0): defaultdict(float,\n",
       "                         {1: -0.009000000000000001}),\n",
       "             (0, 0, 0, -1, 1, 0, 0, 0, 0): defaultdict(float,\n",
       "                         {2: 0.0008100000000000002})})"
      ]
     },
     "execution_count": 20,
     "metadata": {},
     "output_type": "execute_result"
    }
   ],
   "source": [
    "q_player.backup_update(game)\n",
    "q_player.Q"
   ]
  },
  {
   "cell_type": "code",
   "execution_count": 5,
   "metadata": {},
   "outputs": [
    {
     "name": "stderr",
     "output_type": "stream",
     "text": [
      "100%|██████████| 200000/200000 [00:25<00:00, 7903.89it/s]\n"
     ]
    }
   ],
   "source": [
    "from tqdm import trange\n",
    "\n",
    "num_games = 200000\n",
    "q_player.epsilon = 0.9\n",
    "for _ in trange(num_games):\n",
    "    game = player_vs_player(q_player, q_player, view=False)\n",
    "    q_player.backup_update(game)\n",
    "q_player.epsilon = 0.1"
   ]
  },
  {
   "cell_type": "code",
   "execution_count": 7,
   "metadata": {},
   "outputs": [],
   "source": [
    "q_player.epsilon = 0"
   ]
  },
  {
   "cell_type": "code",
   "execution_count": 8,
   "metadata": {},
   "outputs": [
    {
     "data": {
      "image/png": "[encoded data removed]",
      "text/plain": [
       "<Figure size 432x288 with 1 Axes>"
      ]
     },
     "metadata": {
      "needs_background": "light"
     },
     "output_type": "display_data"
    },
    {
     "data": {
      "image/png": "[encoded data removed]",
      "text/plain": [
       "<Figure size 432x288 with 1 Axes>"
      ]
     },
     "metadata": {
      "needs_background": "light"
     },
     "output_type": "display_data"
    },
    {
     "data": {
      "image/png": "[encoded data removed]",
      "text/plain": [
       "<Figure size 432x288 with 1 Axes>"
      ]
     },
     "metadata": {
      "needs_background": "light"
     },
     "output_type": "display_data"
    },
    {
     "data": {
      "image/png": "[encoded data removed]",
      "text/plain": [
       "<Figure size 432x288 with 1 Axes>"
      ]
     },
     "metadata": {
      "needs_background": "light"
     },
     "output_type": "display_data"
    },
    {
     "data": {
      "image/png": "[encoded data removed]",
      "text/plain": [
       "<Figure size 432x288 with 1 Axes>"
      ]
     },
     "metadata": {
      "needs_background": "light"
     },
     "output_type": "display_data"
    },
    {
     "data": {
      "image/png": "[encoded data removed]",
      "text/plain": [
       "<Figure size 432x288 with 1 Axes>"
      ]
     },
     "metadata": {
      "needs_background": "light"
     },
     "output_type": "display_data"
    },
    {
     "name": "stdout",
     "output_type": "stream",
     "text": [
      "Player 1 wins!\n"
     ]
    }
   ],
   "source": [
    "game=player_vs_player(q_player, human_player)\n",
    "q_player.backup_update(game)"
   ]
  },
  {
   "cell_type": "code",
   "execution_count": 9,
   "metadata": {},
   "outputs": [
    {
     "data": {
      "text/plain": [
       "defaultdict(float,\n",
       "            {7: -0.8862416473816019,\n",
       "             6: -0.8508341173371421,\n",
       "             1: 0.5082662359336391,\n",
       "             5: 0.9994924712139436,\n",
       "             8: -0.87363673933368})"
      ]
     },
     "execution_count": 9,
     "metadata": {},
     "output_type": "execute_result"
    }
   ],
   "source": [
    "q_player.Q[game.state_sequence[-2]]"
   ]
  },
  {
   "cell_type": "code",
   "execution_count": 27,
   "metadata": {},
   "outputs": [],
   "source": [
    "q_player.backup_update(game)"
   ]
  },
  {
   "cell_type": "code",
   "execution_count": 13,
   "metadata": {},
   "outputs": [
    {
     "data": {
      "text/plain": [
       "defaultdict(<function __main__.Q_Player.__init__.<locals>.<lambda>()>,\n",
       "            {(0, 0, 0, 0, 0, 0, 0, 0, 0): defaultdict(float,\n",
       "                         {2: 0.0,\n",
       "                          7: 0.0,\n",
       "                          3: 0.0,\n",
       "                          1: 0.0,\n",
       "                          5: 0.0,\n",
       "                          6: 0.0,\n",
       "                          8: 0.0,\n",
       "                          4: 0.0,\n",
       "                          0: 0.0}),\n",
       "             (0, 0, 1, 0, 0, 0, 0, 0, 0): defaultdict(float,\n",
       "                         {3: 0.0,\n",
       "                          8: 0.0,\n",
       "                          5: 0.0,\n",
       "                          0: 0.0,\n",
       "                          6: 0.0,\n",
       "                          4: 0.0,\n",
       "                          1: 0.0,\n",
       "                          7: 0.0}),\n",
       "             (0, 0, 1, -1, 0, 0, 0, 0, 0): defaultdict(float,\n",
       "                         {5: 0.0,\n",
       "                          8: 0.0,\n",
       "                          4: 0.0,\n",
       "                          0: 0.0,\n",
       "                          1: 0.0,\n",
       "                          7: 0.0,\n",
       "                          6: 0.0}),\n",
       "             (0, 0, 1, -1, 0, 1, 0, 0, 0): defaultdict(float,\n",
       "                         {1: 0.0, 8: 0.0, 6: 0.0, 0: 0.0, 7: 0.0, 4: 0.0}),\n",
       "             (0, -1, 1, -1, 0, 1, 1, 0, 0): defaultdict(float,\n",
       "                         {0: 0.0, 4: 0.0, 7: 0.0, 8: 0.0}),\n",
       "             (-1, -1, 1, -1, 0, 1, 1, 0, 0): defaultdict(float,\n",
       "                         {7: 0.0, 8: 0.0, 4: 0.0}),\n",
       "             (-1, -1, 1, -1, 0, 1, 1, 1, 0): defaultdict(float,\n",
       "                         {4: -0.009000000000000001, 8: 0.0}),\n",
       "             (-1, -1, 1, -1, -1, 1, 1, 1, 0): defaultdict(float, {8: 0.1}),\n",
       "             (0, -1, 1, -1, 0, 1, 0, 0, 0): defaultdict(float, {6: 0.0}),\n",
       "             (-1, 0, 1, 0, 0, 0, 0, 0, 0): defaultdict(float,\n",
       "                         {6: 0.0,\n",
       "                          4: 0.0,\n",
       "                          7: 0.0,\n",
       "                          3: 0.0,\n",
       "                          1: 0.0,\n",
       "                          5: 0.0,\n",
       "                          8: 0.0}),\n",
       "             (-1, 0, 1, 0, 0, 0, 1, 0, 0): defaultdict(float,\n",
       "                         {3: -0.009000000000000001,\n",
       "                          5: 0.0,\n",
       "                          1: 0.0,\n",
       "                          4: 0.0,\n",
       "                          8: 0.0,\n",
       "                          7: 0.0}),\n",
       "             (-1, 0, 1, -1, 0, 0, 1, 0, 0): defaultdict(float,\n",
       "                         {4: 0.1, 1: 0.0, 8: 0.0, 7: 0.0, 5: 0.0}),\n",
       "             (0, 0, 0, 0, 1, 0, 0, 0, 0): defaultdict(float,\n",
       "                         {1: 0.0,\n",
       "                          8: 0.0,\n",
       "                          3: 0.0,\n",
       "                          2: 0.0,\n",
       "                          0: 0.0,\n",
       "                          6: 0.0,\n",
       "                          5: 0.0,\n",
       "                          7: 0.0}),\n",
       "             (0, -1, 0, 0, 1, 0, 0, 0, 0): defaultdict(float,\n",
       "                         {6: 0.0,\n",
       "                          8: 0.0,\n",
       "                          5: 0.0,\n",
       "                          7: 0.0,\n",
       "                          0: 0.0,\n",
       "                          2: 0.0,\n",
       "                          3: 0.0}),\n",
       "             (0, -1, 0, 0, 1, 0, 1, 0, 0): defaultdict(float,\n",
       "                         {3: 0.0, 0: 0.0, 8: 0.0, 5: 0.0, 7: 0.0, 2: 0.0}),\n",
       "             (0, -1, 0, -1, 1, 0, 1, 0, 0): defaultdict(float,\n",
       "                         {7: 0.0, 5: 0.0, 8: 0.0, 0: 0.0, 2: 0.0}),\n",
       "             (0, -1, 0, -1, 1, 0, 1, 1, 0): defaultdict(float,\n",
       "                         {5: -0.009000000000000001, 0: 0.0, 8: 0.0, 2: 0.0}),\n",
       "             (0, -1, 0, -1, 1, -1, 1, 1, 0): defaultdict(float,\n",
       "                         {8: 0.1, 0: 0.0, 2: 0.0}),\n",
       "             (0, 0, 0, 0, 0, 0, 1, 0, 0): defaultdict(float,\n",
       "                         {0: 0.0,\n",
       "                          5: 0.0,\n",
       "                          3: 0.0,\n",
       "                          7: 0.0,\n",
       "                          2: 0.0,\n",
       "                          1: 0.0,\n",
       "                          4: 0.0,\n",
       "                          8: 0.0}),\n",
       "             (-1, 0, 0, 0, 0, 0, 1, 0, 0): defaultdict(float,\n",
       "                         {5: 0.0,\n",
       "                          3: 0.0,\n",
       "                          7: 0.0,\n",
       "                          4: 0.0,\n",
       "                          8: 0.0,\n",
       "                          2: 0.0,\n",
       "                          1: 0.0}),\n",
       "             (-1, 0, 0, 0, 0, 1, 1, 0, 0): defaultdict(float,\n",
       "                         {8: 0.0, 2: 0.0, 1: 0.0, 4: 0.0, 3: 0.0, 7: 0.0}),\n",
       "             (-1, 0, 0, 0, 0, 1, 1, 0, -1): defaultdict(float,\n",
       "                         {2: -0.009000000000000001,\n",
       "                          4: 0.0,\n",
       "                          3: 0.0,\n",
       "                          7: 0.0,\n",
       "                          1: 0.0}),\n",
       "             (-1, 0, 1, 0, 0, 1, 1, 0, -1): defaultdict(float,\n",
       "                         {4: 0.1, 7: 0.0, 3: 0.0, 1: 0.0})})"
      ]
     },
     "execution_count": 13,
     "metadata": {},
     "output_type": "execute_result"
    }
   ],
   "source": [
    "q_player.Q"
   ]
  }
 ],
 "metadata": {
  "interpreter": {
   "hash": "b3ba2566441a7c06988d0923437866b63cedc61552a5af99d1f4fb67d367b25f"
  },
  "kernelspec": {
   "display_name": "Python 3.8.3 64-bit ('base': conda)",
   "language": "python",
   "name": "python3"
  },
  "language_info": {
   "codemirror_mode": {
    "name": "ipython",
    "version": 3
   },
   "file_extension": ".py",
   "mimetype": "text/x-python",
   "name": "python",
   "nbconvert_exporter": "python",
   "pygments_lexer": "ipython3",
   "version": "3.8.3"
  },
  "orig_nbformat": 4
 },
 "nbformat": 4,
 "nbformat_minor": 2
}
